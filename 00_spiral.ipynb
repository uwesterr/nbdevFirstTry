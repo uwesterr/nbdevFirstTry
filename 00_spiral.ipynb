{
 "cells": [
  {
   "cell_type": "code",
   "execution_count": null,
   "metadata": {},
   "outputs": [],
   "source": [
    "#| default_exp spiral"
   ]
  },
  {
   "cell_type": "markdown",
   "metadata": {},
   "source": [
    "# Spiral\n",
    "\n",
    "> API details."
   ]
  },
  {
   "cell_type": "code",
   "execution_count": null,
   "metadata": {},
   "outputs": [],
   "source": [
    "#| export\n",
    "import numpy as np\n",
    "import  matplotlib.pyplot as plt\n"
   ]
  },
  {
   "cell_type": "code",
   "execution_count": null,
   "metadata": {},
   "outputs": [],
   "source": [
    "#| hide\n",
    "from nbdev import *"
   ]
  },
  {
   "cell_type": "code",
   "execution_count": null,
   "metadata": {},
   "outputs": [],
   "source": [
    "#| export\n",
    "t = np.linspace(0,40,100)\n",
    "v = 0.11 # velocity in rad/s\n",
    "B = 8.6e-6 # spiral arm distance\n",
    "r_max=800e-6 # max radius in rad\n",
    "t_max=3.14*(r_max)**2/(B*v) # calculate resulting spiral duration"
   ]
  },
  {
   "cell_type": "markdown",
   "metadata": {},
   "source": [
    "## Define a function which calculates\n",
    "- phase\n",
    "- radius\n",
    "of spiral "
   ]
  },
  {
   "cell_type": "code",
   "execution_count": null,
   "metadata": {},
   "outputs": [],
   "source": [
    "#| export\n",
    "def phi(B:float, # spiral arm distance\n",
    "        v:float, # spiral angular velocity\n",
    "        t:float, # time\n",
    "        flag_out:int, # indicated if spiral goes out- or inwards\n",
    "        t_max:float, # time for one outward spiral_count\n",
    "        spiral_count:int ):# counts the number of performed spirals\n",
    "    \"compute phi and radius\"\n",
    "    if flag_out:\n",
    "        phi1 = np.sqrt(4*np.pi/B*v*(t-t_max*(spiral_count)))\n",
    "\n",
    "        r=B*phi1/(2*np.pi)\n",
    "       # print(phi1)\n",
    "        if r >= 800e-6:\n",
    "            flag_out=0\n",
    "            spiral_count=spiral_count+1\n",
    "            #t_max=t\n",
    "    else:\n",
    "        if ((4*np.pi/B*v*((spiral_count+1)*t_max-t))>=0):\n",
    "            phi1 = np.sqrt(4*np.pi/B*v*((spiral_count+1)*t_max-t))\n",
    "            \n",
    "        else:\n",
    "            phi1=0.0\n",
    "        r=B*phi1/(2*np.pi)\n",
    "        if r <= 5e-6:\n",
    "            flag_out=1  \n",
    "            spiral_count=spiral_count+1  \n",
    "    return phi1, flag_out, r, spiral_count\n"
   ]
  },
  {
   "cell_type": "code",
   "execution_count": null,
   "metadata": {},
   "outputs": [],
   "source": [
    "#| hide\n",
    "flag_out=1\n",
    "t = np.linspace(0,12,1000)\n",
    "phi_list=[]\n",
    "time_list=[]\n",
    "flag_out_list=[]\n",
    "r_list=[]\n",
    "spiral_count=0\n",
    "spiral_count_list=[]\n",
    "for i in t:\n",
    "    #print(i)\n",
    "    phi1,flag_out, r, spiral_count=phi(B,v,i, flag_out, t_max,spiral_count)\n",
    "    #\n",
    "    # print(phi1, flag_out)\n",
    "    phi_list.append(phi1)\n",
    "    time_list.append(i)\n",
    "    flag_out_list.append(flag_out)\n",
    "    r_list.append(r)\n",
    "    spiral_count_list.append(spiral_count)\n"
   ]
  },
  {
   "cell_type": "markdown",
   "metadata": {},
   "source": [
    "## Phase of spiral\n",
    "The pase of the spiral has to grow and shrink for in and out going spirals as shown in @fig-polar."
   ]
  },
  {
   "cell_type": "code",
   "execution_count": null,
   "metadata": {},
   "outputs": [
    {
     "data": {
      "image/png": "[encoded data removed]",
      "text/plain": [
       "<Figure size 432x288 with 6 Axes>"
      ]
     },
     "metadata": {
      "needs_background": "light"
     },
     "output_type": "display_data"
    }
   ],
   "source": [
    "#| label: fig-polar\n",
    "#|echo: false\n",
    "fig, axs = plt.subplots(2,3)\n",
    "\n",
    "axs[0,0].plot(time_list,r_list, 'b')\n",
    "axs[0,1].plot(time_list,phi_list, 'b')\n",
    "axs[0,2].plot(time_list,flag_out_list, 'r')\n",
    "axs[1,0].plot(time_list,spiral_count_list, 'r', label='D=1m')\n",
    "# plt.title(\"Spiral vs time\")\n",
    "# plt.xlabel(\"time [s]\")\n",
    "# plt.ylabel(\"phi\")\n",
    "# show the plot\n",
    "#plt.xlim((10,2e4))\n",
    "#plt.ylim((1e-19,1e-12))\n",
    "plt.show()"
   ]
  },
  {
   "cell_type": "markdown",
   "metadata": {},
   "source": [
    "## Lets turn this into a class"
   ]
  },
  {
   "cell_type": "code",
   "execution_count": null,
   "metadata": {},
   "outputs": [],
   "source": [
    "#| export \n",
    "class   DutPatLoop:\n",
    "    \"\"\"\n",
    "    Class to implement DUT PAT loop for STB\n",
    "    \"\"\"\n",
    "\n",
    "    \n",
    "    def __init__(self):\n",
    "        \"\"\"\n",
    "        Initialize LCT values\n",
    "        \n",
    "\n",
    "        Args:\n",
    "            para_lct (dict): parameters for LCT\n",
    "            para_system (dict): parameters for system, like max time, time steps, ...\n",
    "            debug_flag (boolean): 1 if debug mode is on and print statements are active\n",
    "        \"\"\"\n",
    "        self.B = 8.6e-6 # spiral arm distance\n",
    "        self.v = 0.11 # spiral angular velocity\n",
    "        \n",
    "    def phi_method(self,\n",
    "            B:float, # spiral arm distance\n",
    "            v:float, # spiral angular velocity\n",
    "            t:float, # time\n",
    "            flag_out:int, # indicated if spiral goes out- or inwards\n",
    "            t_max:float, # time for one outward spiral_count\n",
    "            spiral_count:int ):# counts the number of performed spirals\n",
    "        \"compute phi and radius\"\n",
    "        if flag_out:\n",
    "            phi1 = np.sqrt(4*np.pi/B*v*(t-t_max*(spiral_count)))\n",
    "\n",
    "            r=B*phi1/(2*np.pi)\n",
    "        # print(phi1)\n",
    "            if r >= 800e-6:\n",
    "                flag_out=0\n",
    "                spiral_count=spiral_count+1\n",
    "                #t_max=t\n",
    "        else:\n",
    "            if ((4*np.pi/B*v*((spiral_count+1)*t_max-t))>=0):\n",
    "                phi1 = np.sqrt(4*np.pi/B*v*((spiral_count+1)*t_max-t))\n",
    "                \n",
    "            else:\n",
    "                phi1=0.0\n",
    "            r=B*phi1/(2*np.pi)\n",
    "            if r <= 5e-6:\n",
    "                flag_out=1  \n",
    "                spiral_count=spiral_count+1  \n",
    "        return phi1, flag_out, r, spiral_count"
   ]
  },
  {
   "cell_type": "markdown",
   "metadata": {},
   "source": [
    "So we create a method which is the same function as before"
   ]
  },
  {
   "cell_type": "code",
   "execution_count": null,
   "metadata": {},
   "outputs": [
    {
     "data": {
      "text/markdown": [
       "---\n",
       "\n",
       "#### DutPatLoop.phi_method\n",
       "\n",
       ">      DutPatLoop.phi_method (B:float, v:float, t:float, flag_out:int,\n",
       ">                             t_max:float, spiral_count:int)\n",
       "\n",
       "compute phi and radius\n",
       "\n",
       "|    | **Type** | **Details** |\n",
       "| -- | -------- | ----------- |\n",
       "| B | float | spiral arm distance |\n",
       "| v | float | spiral angular velocity |\n",
       "| t | float | time |\n",
       "| flag_out | int | indicated if spiral goes out- or inwards |\n",
       "| t_max | float | time for one outward spiral_count |\n",
       "| spiral_count | int | counts the number of performed spirals |"
      ],
      "text/plain": [
       "<nbdev.showdoc.BasicMarkdownRenderer at 0x7ff09db971c0>"
      ]
     },
     "execution_count": null,
     "metadata": {},
     "output_type": "execute_result"
    }
   ],
   "source": [
    "show_doc(DutPatLoop.phi_method)"
   ]
  },
  {
   "cell_type": "markdown",
   "metadata": {},
   "source": []
  },
  {
   "cell_type": "markdown",
   "metadata": {},
   "source": [
    "We create the necessary inputs"
   ]
  },
  {
   "cell_type": "code",
   "execution_count": null,
   "metadata": {},
   "outputs": [],
   "source": [
    "t = np.linspace(0,40,100)\n",
    "v = 0.11 # velocity in rad/s\n",
    "B = 8.6e-6 # spiral arm distance\n",
    "r_max=800e-6 # max radius in rad\n",
    "t_max=3.14*(r_max)**2/(B*v) # calculate resulting spiral duration"
   ]
  },
  {
   "cell_type": "markdown",
   "metadata": {},
   "source": [
    "instantiate the class  \n",
    "`dut_pat_loop=DutPatLoop()`"
   ]
  },
  {
   "cell_type": "code",
   "execution_count": null,
   "metadata": {},
   "outputs": [],
   "source": [
    "#| export\n",
    "\n",
    "dut_pat_loop=DutPatLoop()"
   ]
  },
  {
   "cell_type": "code",
   "execution_count": null,
   "metadata": {},
   "outputs": [],
   "source": [
    "#| hide\n",
    "flag_out=1\n",
    "t = np.linspace(0,12,1000)\n",
    "phi_list_method=[]\n",
    "time_list_method=[]\n",
    "flag_out_list_method=[]\n",
    "r_list_method=[]\n",
    "spiral_count=0\n",
    "spiral_count_list_method=[]\n",
    "for i in t:\n",
    "    #print(i)\n",
    "    phi1,flag_out, r, spiral_count=dut_pat_loop.phi_method(B,v,i, flag_out, t_max,spiral_count)\n",
    "    #\n",
    "    # print(phi1, flag_out)\n",
    "    phi_list_method.append(phi1)\n",
    "    time_list_method.append(i)\n",
    "    flag_out_list_method.append(flag_out)\n",
    "    r_list_method.append(r)\n",
    "    spiral_count_list_method.append(spiral_count)\n"
   ]
  },
  {
   "cell_type": "markdown",
   "metadata": {},
   "source": [
    "## Plots of the phase of spiral\n",
    "The plot ought to be the same as in @fig-polar."
   ]
  },
  {
   "cell_type": "code",
   "execution_count": null,
   "metadata": {},
   "outputs": [
    {
     "data": {
      "image/png": "[encoded data removed]",
      "text/plain": [
       "<Figure size 432x288 with 6 Axes>"
      ]
     },
     "metadata": {
      "needs_background": "light"
     },
     "output_type": "display_data"
    }
   ],
   "source": [
    "#| label: fig-polar-method\n",
    "#|echo: false\n",
    "fig, axs = plt.subplots(2,3)\n",
    "\n",
    "axs[0,0].plot(time_list_method,r_list_method, 'b')\n",
    "axs[0,1].plot(time_list_method,phi_list_method, 'b')\n",
    "axs[0,2].plot(time_list_method,flag_out_list_method, 'r')\n",
    "axs[1,0].plot(time_list_method,spiral_count_list_method, 'r', label='D=1m')\n",
    "# plt.title(\"Spiral vs time\")\n",
    "# plt.xlabel(\"time [s]\")\n",
    "# plt.ylabel(\"phi\")\n",
    "# show the plot\n",
    "#plt.xlim((10,2e4))\n",
    "#plt.ylim((1e-19,1e-12))\n",
    "plt.show()"
   ]
  },
  {
   "cell_type": "code",
   "execution_count": null,
   "metadata": {},
   "outputs": [],
   "source": []
  }
 ],
 "metadata": {
  "kernelspec": {
   "display_name": "Python 3.10.0 ('trackingBudget')",
   "language": "python",
   "name": "python3"
  }
 },
 "nbformat": 4,
 "nbformat_minor": 4
}
